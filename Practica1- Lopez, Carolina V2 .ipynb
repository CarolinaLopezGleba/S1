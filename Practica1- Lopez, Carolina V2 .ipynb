{
 "cells": [
  {
   "cell_type": "code",
   "execution_count": null,
   "id": "51bc4c9f",
   "metadata": {},
   "outputs": [],
   "source": [
    "import re\n",
    "file1 = open('mbox-short.txt')\n",
    "texto1 = '^New Revision: ([0-9.]+)'\n",
    "NewRevisionNumero1 = []\n",
    "\n",
    "for line in file1:\n",
    "    result1 = re.findall(texto1, line)\n",
    "\n",
    "    if result1:\n",
    "        NewRevisionNumero1.append(int(result1[0]))\n",
    "\n",
    "print(int(sum(NewRevisionNumero1)/len(NewRevisionNumero1)))\n",
    "\n",
    "file2 = open('mbox.txt')\n",
    "texto2 = '^New Revision: ([0-9.]+)'\n",
    "NewRevisionNumero2 = []\n",
    "\n",
    "for line in file2:\n",
    "    result2 = re.findall(texto2, line)\n",
    "\n",
    "    if result2:\n",
    "        NewRevisionNumero2.append(int(result2[0]))\n",
    "\n",
    "\n",
    "print(int(sum(NewRevisionNumero2) / len(NewRevisionNumero2)))\n"
   ]
  }
 ],
 "metadata": {
  "kernelspec": {
   "display_name": "Python 3 (ipykernel)",
   "language": "python",
   "name": "python3"
  },
  "language_info": {
   "codemirror_mode": {
    "name": "ipython",
    "version": 3
   },
   "file_extension": ".py",
   "mimetype": "text/x-python",
   "name": "python",
   "nbconvert_exporter": "python",
   "pygments_lexer": "ipython3",
   "version": "3.11.4"
  }
 },
 "nbformat": 4,
 "nbformat_minor": 5
}
